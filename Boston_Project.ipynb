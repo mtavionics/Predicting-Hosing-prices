{
 "cells": [
  {
   "cell_type": "code",
   "execution_count": 3,
   "metadata": {},
   "outputs": [
    {
     "name": "stdout",
     "output_type": "stream",
     "text": [
      "      rm      lstat    ptratio      medv\n",
      "0  6.027  14.330000  19.200001  352800.0\n",
      "1  6.833  19.690001  20.200001  296100.0\n",
      "2  7.313  13.440000  20.200001  315000.0\n",
      "3  6.162   7.430000  14.700000  506100.0\n",
      "4  6.162  24.100000  20.200001  279300.0\n"
     ]
    }
   ],
   "source": [
    "from cassandra.cluster import Cluster\n",
    "from cassandra.auth import PlainTextAuthProvider\n",
    "import pandas as pd\n",
    "\n",
    "def pandas_factory(colnames, rows):\n",
    "    return pd.DataFrame(rows, columns=colnames)\n",
    "\n",
    "cluster = Cluster(\n",
    "    contact_points=['localhost'], port=34, \n",
    "    auth_provider = PlainTextAuthProvider(username='database', password='123456')\n",
    ")\n",
    "session = cluster.connect()\n",
    "session.set_keyspace('boston')\n",
    "session.row_factory = pandas_factory\n",
    "session.default_fetch_size = 10000000 #needed for large queries, otherwise driver will do pagination. Default is 50000.\n",
    "\n",
    "rows = session.execute(\"\"\"select * from housing\"\"\")\n",
    "df = rows._current_rows\n",
    "print (df.head())\n"
   ]
  },
  {
   "cell_type": "code",
   "execution_count": null,
   "metadata": {},
   "outputs": [],
   "source": []
  }
 ],
 "metadata": {
  "kernelspec": {
   "display_name": "Python 3",
   "language": "python",
   "name": "python3"
  },
  "language_info": {
   "codemirror_mode": {
    "name": "ipython",
    "version": 3
   },
   "file_extension": ".py",
   "mimetype": "text/x-python",
   "name": "python",
   "nbconvert_exporter": "python",
   "pygments_lexer": "ipython3",
   "version": "3.8.3"
  }
 },
 "nbformat": 4,
 "nbformat_minor": 4
}
